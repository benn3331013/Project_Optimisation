{
 "cells": [
  {
   "cell_type": "code",
   "execution_count": 1,
   "id": "cbc76383",
   "metadata": {},
   "outputs": [],
   "source": [
    "import numpy as np\n",
    "import matplotlib.pyplot as plt\n",
    "import random"
   ]
  },
  {
   "cell_type": "code",
   "execution_count": 2,
   "id": "894706f4",
   "metadata": {},
   "outputs": [],
   "source": [
    "def gen_clustering(n_clusters : int, pp_cluster : list):\n",
    "    individuals = np.random.random((n_clusters, pp_cluster, 2))\n",
    "    \n",
    "    for cluster in range(n_clusters):\n",
    "        plt.scatter()"
   ]
  },
  {
   "cell_type": "code",
   "execution_count": 3,
   "id": "a70566bf",
   "metadata": {},
   "outputs": [],
   "source": [
    "def gen_coordinates(n_individuals):\n",
    "    coordinates = []\n",
    "    for i in range(n_individuals):\n",
    "        coordinates.append((random.uniform(0., 10.),random.uniform(0., 10.)))\n",
    "    return coordinates"
   ]
  },
  {
   "cell_type": "code",
   "execution_count": 2,
   "id": "81ad0b41",
   "metadata": {},
   "outputs": [
    {
     "name": "stdout",
     "output_type": "stream",
     "text": [
      "1 2\n"
     ]
    }
   ],
   "source": [
    "print(\"{} {}\".format(1,2))"
   ]
  },
  {
   "cell_type": "code",
   "execution_count": 7,
   "id": "188c8da8",
   "metadata": {},
   "outputs": [],
   "source": [
    "def gen_data(name_file=\"PHCCCP.dat\", n_individuals = 10, n_clusters=3, demands_cluster=[3,5,2]):\n",
    "    data_file = open(name_file, \"w\")\n",
    "    data_file.write(\"param d := 2;\\n\\n\")\n",
    "    data_file.write(\"param n_individuals := {};\\n\\n\".format(n_individuals))\n",
    "\n",
    "    data_file.write(\"param a : 1 2 :=\\n\")\n",
    "    coordinates = gen_coordinates(n_individuals)\n",
    "    for i in range(n_individuals):\n",
    "        data_file.write(\"    {} {} {}\\n\".format(i, coordinates[i][0], coordinates[i][1]))\n",
    "    data_file.write(\";\\n\\n\")\n",
    "    \n",
    "    data_file.write(\"param demands :=\")\n",
    "    for i in range(n_individuals):\n",
    "        data_file.write(\"    {} 1\\n\".format(i))\n",
    "    data_file.write(\";\\n\\n\")\n",
    "    \n",
    "    data_file.write(\"param p := {}\\n\\n\".format(n_clusters))\n",
    "        \n",
    "    \n",
    "    data_file.write(\"param Q :=\\n\")\n",
    "    for i in range(n_clusters):\n",
    "        data_file.write(\"    {} {}\\n\".format(i, demands_cluster[i]))\n",
    "    data_file.close()\n",
    "\n",
    "    plt.scatter([sub_list[0] for sub_list in coordinates], [sub_list[1] for sub_list in coordinates], c='b')\n",
    "    plt.show()\n",
    "    plt.savefig(\"PHCCCP.png\")"
   ]
  },
  {
   "cell_type": "code",
   "execution_count": 8,
   "id": "027669c9",
   "metadata": {},
   "outputs": [
    {
     "data": {
      "image/png": "[encoded data removed]",
      "text/plain": [
       "<Figure size 640x480 with 1 Axes>"
      ]
     },
     "metadata": {},
     "output_type": "display_data"
    }
   ],
   "source": [
    "gen_data()"
   ]
  },
  {
   "cell_type": "code",
   "execution_count": 21,
   "id": "b46f3ea3",
   "metadata": {},
   "outputs": [
    {
     "data": {
      "image/png": "[encoded data removed]",
      "text/plain": [
       "<Figure size 640x480 with 1 Axes>"
      ]
     },
     "metadata": {},
     "output_type": "display_data"
    }
   ],
   "source": [
    "import matplotlib.pyplot as plt\n",
    "\n",
    "x = [1, 1, 2, 2, 3, 3]\n",
    "y = [1, 2, 1, 2, 1, 2]\n",
    "color_index = [1, 2, 3, 4, 5, 6]\n",
    "is_colored = [True, True, False, True, True, False]\n",
    "colors = ['red', 'green', 'blue', 'yellow', 'purple', 'orange']\n",
    "\n",
    "# Create an empty list to store the color of each dot\n",
    "dot_colors = []\n",
    "\n",
    "# Iterate through the data\n",
    "for i in range(len(x)):\n",
    "    # If the boolean value is True, use the corresponding color from the colors list\n",
    "    if is_colored[i]:\n",
    "        dot_colors.append(colors[color_index[i]-1])\n",
    "    # If the boolean value is False, use the default color (gray)\n",
    "    else:\n",
    "        dot_colors.append('gray')\n",
    "\n",
    "plt.scatter(x, y, c=dot_colors)\n",
    "plt.show()\n"
   ]
  }
 ],
 "metadata": {
  "kernelspec": {
   "display_name": "Python 3 (ipykernel)",
   "language": "python",
   "name": "python3"
  },
  "language_info": {
   "codemirror_mode": {
    "name": "ipython",
    "version": 3
   },
   "file_extension": ".py",
   "mimetype": "text/x-python",
   "name": "python",
   "nbconvert_exporter": "python",
   "pygments_lexer": "ipython3",
   "version": "3.9.14"
  },
  "vscode": {
   "interpreter": {
    "hash": "aa6088de502241aa5b089aa4d56ee8ff9515d5eca7fc59578868fc1fb1b8d65e"
   }
  }
 },
 "nbformat": 4,
 "nbformat_minor": 5
}
